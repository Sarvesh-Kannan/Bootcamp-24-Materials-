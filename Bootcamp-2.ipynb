{
 "cells": [
  {
   "cell_type": "markdown",
   "id": "08d3ec6a-a63c-4abc-871f-25d1751c9e08",
   "metadata": {},
   "source": [
    "---\n",
    "\n",
    "# **Itinerary**\n",
    "\n",
    "## 🚀 **1. Leap Year Calculation**\n",
    "   - Math behind Leap Year calculation\n",
    "   - Explanation of the Problem \n",
    "   - Tryouts \n",
    "\n",
    "## 🚀 **2. Prime Number Calculation**\n",
    "   - Math behind Prime Numbers\n",
    "   - Explanation of the Problem \n",
    "   - Tryouts\n",
    "\n",
    "## 🚀 **3.Fibonacci Series**\n",
    "   - Math Behind Fibonacci Series \n",
    "   - Explanation of Fibonacci Series \n",
    "   - Tryouts "
   ]
  },
  {
   "cell_type": "markdown",
   "id": "6c00a135-667e-4444-96c1-2b644e622a96",
   "metadata": {},
   "source": [
    "## <span style=\"color:#007ACC;\">*Leap Year Calculation*</span>\r\n"
   ]
  },
  {
   "cell_type": "markdown",
   "id": "f7ceab93-0977-4361-9787-1cf85a2c83dd",
   "metadata": {},
   "source": [
    "### Criteria for a Year to be a **Leap Year**\r\n",
    "\r\n",
    "1. The year **must be divisible by 4**.\r\n",
    "2. However, if the year is also divisible by 100, it must **additionally be divisible by 400** to be considered a leap year.\r\n",
    "\r\n",
    "In other words, a year is a leap year if:\r\n",
    "- It is divisible by 4, **and** \r\n",
    "- Either **not divisible by 100** or **divisible by 400**."
   ]
  },
  {
   "cell_type": "markdown",
   "id": "3a2a6b89-9d3f-4d41-959f-9a07c94e0a26",
   "metadata": {},
   "source": [
    "### Psuedo Code for Checking if a Year is a Leap Year or not \n",
    "``` python\n",
    "function is_leap_year(year):\r\n",
    "    if year is divisible by 4:\r\n",
    "        if year is divisible by 100:\r\n",
    "            if year is also divisible by 400:\r\n",
    "                return True  # Leap year\r\n",
    "            else:\r\n",
    "                return False  # Not a leap year\r\n",
    "        else:\r\n",
    "            return True  # Leap year\r\n",
    "    else:\r\n",
    "        return False  # Not a leap year\r\n"
   ]
  },
  {
   "cell_type": "markdown",
   "id": "4d5a11b5-07ab-4797-b7ea-6ffd13816b40",
   "metadata": {},
   "source": [
    "### Explaination for the Psuedo Code\n",
    "- Once the function is_leap_year() is defined, the first conditional statement ensures that if the enterd number is divisible by 4, it shall return False if the number is not divisible by 4. But if the number is divisible divisible by 4 but is not divisible by 100 then it shall return True directly.\n",
    "\n",
    "- Now we give a nested if-else loop which ensures that the number if the number is divisible is divisible by 100 it is also divisible by 400 then only it shall return true if the constraint is not satisfied then it shall return False.\n"
   ]
  },
  {
   "cell_type": "markdown",
   "id": "fa4fbc8a-289c-41eb-b172-c1353a9411fe",
   "metadata": {},
   "source": [
    "### Python Implementation "
   ]
  },
  {
   "cell_type": "code",
   "execution_count": 30,
   "id": "06a24d9d-a422-4be0-9afa-cdf7f537ec9f",
   "metadata": {},
   "outputs": [
    {
     "name": "stdin",
     "output_type": "stream",
     "text": [
      "Enter a number to be checked :  100\n"
     ]
    },
    {
     "name": "stdout",
     "output_type": "stream",
     "text": [
      "100 is not a leap year.\n"
     ]
    }
   ],
   "source": [
    "def is_leap_year(year):\n",
    "    if year % 4 == 0:\n",
    "        if year % 100 == 0:\n",
    "            if year % 400 == 0:\n",
    "                return True  # Leap year\n",
    "            else:\n",
    "                return False  # Not a leap year\n",
    "        else:\n",
    "            return True  # Leap year\n",
    "    else:\n",
    "        return False  # Not a leap year\n",
    "\n",
    "# Example usage:\n",
    "year = int(input(\"Enter a number to be checked : \"))\n",
    "if is_leap_year(year):\n",
    "    print(f\"{year} is a leap year.\")\n",
    "else:\n",
    "    print(f\"{year} is not a leap year.\")"
   ]
  },
  {
   "cell_type": "markdown",
   "id": "c696d42f-544c-404e-9801-d88cea788d98",
   "metadata": {},
   "source": [
    "## <span style=\"color:#007ACC;\">*Prime Number Calculation*</span>\n",
    " "
   ]
  },
  {
   "cell_type": "markdown",
   "id": "1e069f5a-39a3-443b-ae4f-1b0ae606403b",
   "metadata": {},
   "source": [
    "### Criteria for a number to a Prime number "
   ]
  },
  {
   "cell_type": "markdown",
   "id": "0e9092e3-4650-4366-846a-bc648091c8ab",
   "metadata": {},
   "source": [
    "### Sequential Planning for Checking if a Number is Prime\n",
    "\n",
    " 1. A prime number is a natural number greater than 1 that has no positive divisors other than 1 and itself.\n",
    " 2. Examples of prime numbers: 2, 3, 5, 7, 11, 13, etc.\n",
    "\n",
    "In other words, A Number is a `Prime number` if:\n",
    "\n",
    "- A number is prime if it cannot be divided evenly by any other number except for 1 and itself \n"
   ]
  },
  {
   "cell_type": "markdown",
   "id": "465cf4c9-2030-43ef-8ab6-72cc0ebdc555",
   "metadata": {},
   "source": [
    "### Psuedo Code for checking if a number is a prime number or not\n",
    "``` python\n",
    "function is_prime(number):\r\n",
    "    if number is less than or equal to 1:\r\n",
    "        return False  # Numbers less than or equal to 1 are not prime\r\n",
    "\r\n",
    "    if number is 2:\r\n",
    "        return True  # 2 is a prime number\r\n",
    "\r\n",
    "    for each integer i from 2 to the square root of number (inclusive):\r\n",
    "        if number is divisible by i:\r\n",
    "            return False  # Number is divisible by i, so it's not prime\r\n",
    "\r\n",
    "    return True  # No divisors found, number is prime\r\n"
   ]
  },
  {
   "cell_type": "markdown",
   "id": "33723bbf-60f6-4256-9a5e-9899ce3bfb2b",
   "metadata": {},
   "source": [
    "### Explanation of the Psuedo Code -\r\n",
    "\r\n",
    "- Once the function `is_prime()` is defined, the first conditional statement ensures that if the entered number is **less than or equal to 1**, it shall return `False`, as numbers less than or equal to 1 are not prime.\r\n",
    "\r\n",
    "- If the number is **equal to 2**, the function directly returns `True`, since 2 is the smallest and only even prime number.\r\n",
    "\r\n",
    "- Next, we use a **for loop** to check for divisibility. The loop runs from 2 up to the square root of the number (incluve). \r\n",
    "  - For each iteration, if the number is divisible by any of these values, the function returns `False`, indicating that the number is not prime.\r\n",
    "\r\n",
    "- If no divisors are found by the end of the loop, the function returns `True`, indicating that the numbey implemented.\n"
   ]
  },
  {
   "cell_type": "markdown",
   "id": "94fb4855-3baa-455b-8d1f-faa26f8f402d",
   "metadata": {},
   "source": [
    "### Python Implementation"
   ]
  },
  {
   "cell_type": "code",
   "execution_count": 51,
   "id": "718f3c18-cfc8-4168-bf7b-90b76f631516",
   "metadata": {},
   "outputs": [
    {
     "name": "stdin",
     "output_type": "stream",
     "text": [
      "Enter a value to be checked for Prime 20\n"
     ]
    },
    {
     "data": {
      "text/plain": [
       "False"
      ]
     },
     "execution_count": 51,
     "metadata": {},
     "output_type": "execute_result"
    }
   ],
   "source": [
    "def is_prime(number):\n",
    "    if number <= 1:\n",
    "        return False  # Numbers less than or equal to 1 are not prime\n",
    "    if number == 2:\n",
    "        return True  # 2 is the smallest prime number\n",
    "    for i in range(2, int(number ** 0.5) + 1):\n",
    "        if number % i == 0:\n",
    "            return False  # Found a divisor, not prime\n",
    "    return True  # No divisors found, number is prime\n",
    "number = int(input(\"Enter a value to be checked for Prime\"))\n",
    "is_prime(number)"
   ]
  },
  {
   "cell_type": "markdown",
   "id": "d3f50ecd-7fd1-413c-8be7-115edeb31803",
   "metadata": {},
   "source": [
    "## <span style=\"color:#007ACC;\">*Fibonacci Series*</span>\n"
   ]
  },
  {
   "cell_type": "markdown",
   "id": "093a57d3-6b83-49b4-b35b-ee2aded02b7e",
   "metadata": {},
   "source": [
    "### Criteria for a number to be a part of the Fibonacci Series\n",
    "\n",
    "\r\n",
    "1. Fibonacci numbers start with 0 and 1.\r\n",
    "2. Each subsequent number is the sum of the previous two numbers: 0, 1, 1, 2, 3, 5, 8, 13, 21, 34, ...\r\n",
    "3. If the number can be generated by this rule, starting from 0 and 1, it is a Fibonacci number.oding of the process."
   ]
  },
  {
   "cell_type": "markdown",
   "id": "a8a2ad8e-6261-4cfa-9494-c80789ced8a6",
   "metadata": {},
   "source": [
    "### Psuedo Code for checking if the number is a part of the Fibonacci series or not \n",
    "``` python\n",
    "function is_fibonacci_number(n):\r\n",
    "    if n is 0 or 1:\r\n",
    "        return True  # 0 and 1 are Fibonacci numbers\r\n",
    "\r\n",
    "    # Initialize the first two Fibonacci numbers\r\n",
    "    a = 0\r\n",
    "    b = 1\r\n",
    "\r\n",
    "    while b < n:\r\n",
    "        # Generate the next Fibonacci number\r\n",
    "        next_fib = a + b\r\n",
    "        a = b\r\n",
    "        b = next_fib\r\n",
    "\r\n",
    "    if b == n:\r\n",
    "        return True  # The number is a Fibonacci number\r\n",
    "    else:\r\n",
    "        return False  # The number is not a Fibonacci number\r\n"
   ]
  },
  {
   "cell_type": "markdown",
   "id": "a55f4df0-8db5-49f6-beeb-224e46d7fa6e",
   "metadata": {},
   "source": [
    "### Psuedo Code Explanation  :\r\n",
    "\r\n",
    "1. The function checks if `n` is 0 or 1; if true, it returns `True` (as 0 and 1 are Fibonacci numbers).\r\n",
    "2. Initializes the first two Fibonacci numbers: `a = 0` and `b = 1`.\r\n",
    "3. A `while` loop runs as long as `b` (current Fibonacci number) is less than `n`.\r\n",
    "4. Within the loop, calculates the next Fibonacci number as `next_fib = a + b`.\r\n",
    "5. Updates `a` to `b` and `b` to `next_fib`.\r\n",
    "6. After the loop, checks if `b` equals `n`.\r\n",
    "7. If `b == n`, returns `True`; otherwise, returns `False`.False`.\n"
   ]
  },
  {
   "cell_type": "markdown",
   "id": "735c16f0-f786-44b1-8281-3cd56acee1a3",
   "metadata": {},
   "source": [
    "### Python Code "
   ]
  },
  {
   "cell_type": "code",
   "execution_count": 82,
   "id": "71ecbc32-d8ca-4472-a1ce-7277a6f06858",
   "metadata": {},
   "outputs": [
    {
     "name": "stdin",
     "output_type": "stream",
     "text": [
      "Enter a number to be checked if it's a part of the Fibonacci Series :  4\n"
     ]
    },
    {
     "name": "stdout",
     "output_type": "stream",
     "text": [
      "4 is not a Fibonacci number.\n"
     ]
    }
   ],
   "source": [
    "def is_fibonacci_number(n):\n",
    "    if n == 0 or n == 1:\n",
    "        return True  # 0 and 1 are Fibonacci numbers\n",
    "\n",
    "    # Initialize the first two Fibonacci numbers\n",
    "    a = 0\n",
    "    b = 1\n",
    "\n",
    "    while b < n:\n",
    "        # Generate the next Fibonacci number\n",
    "        next_fib = a + b\n",
    "        a = b\n",
    "        b = next_fib\n",
    "\n",
    "    if b == n:\n",
    "        return True  # The number is a Fibonacci number\n",
    "    else:\n",
    "        return False  # The number is not a Fibonacci number\n",
    "\n",
    "# Example usage:\n",
    "number = int(input(\"Enter a number to be checked if it's a part of the Fibonacci Series : \"))\n",
    "if is_fibonacci_number(number):\n",
    "    print(f\"{number} is a Fibonacci number.\")\n",
    "else:\n",
    "    print(f\"{number} is not a Fibonacci number.\")"
   ]
  },
  {
   "cell_type": "code",
   "execution_count": null,
   "id": "da137d6a-91be-489e-9837-c476c51abddc",
   "metadata": {},
   "outputs": [],
   "source": []
  }
 ],
 "metadata": {
  "kernelspec": {
   "display_name": "Python 3 (ipykernel)",
   "language": "python",
   "name": "python3"
  },
  "language_info": {
   "codemirror_mode": {
    "name": "ipython",
    "version": 3
   },
   "file_extension": ".py",
   "mimetype": "text/x-python",
   "name": "python",
   "nbconvert_exporter": "python",
   "pygments_lexer": "ipython3",
   "version": "3.11.7"
  }
 },
 "nbformat": 4,
 "nbformat_minor": 5
}
