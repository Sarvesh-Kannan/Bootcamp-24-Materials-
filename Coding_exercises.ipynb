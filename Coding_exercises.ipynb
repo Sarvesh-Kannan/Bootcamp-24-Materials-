{
 "cells": [
  {
   "cell_type": "markdown",
   "id": "7469ab2b-9a4a-498c-b167-d8c03d768794",
   "metadata": {},
   "source": [
    "# Coding Exercises "
   ]
  },
  {
   "cell_type": "markdown",
   "id": "49a7127b-4d0c-4583-8b48-3ca7fe8e5330",
   "metadata": {},
   "source": [
    "---\n",
    "\n",
    "### `Itinerary`\n",
    "\n",
    "1. **Counting Vowels**  \n",
    "   - Implement a function that counts the number of vowels in a given string.  \n",
    "   - **Goal**: Identify and count the vowels ('a', 'e', 'i', 'o', 'u') in both uppercase and lowercase forms.\n",
    "\n",
    "2. **Palindrome Checker**  \n",
    "   - Create a function that checks whether a given string is a palindrome.  \n",
    "   - **Goal**: Determine if the string reads the same forwards and backwards, ignoring spaces and capitalization.\n",
    "\n",
    "3. **Simple Calculator**  \n",
    "   - Develop a basic calculator that can perform addition, subtraction, multiplication, and division.  \n",
    "   - **Goal**: Handle basic arithmetic operations based on user input, including division by zero error handling.\n",
    "\n",
    "---"
   ]
  },
  {
   "cell_type": "markdown",
   "id": "5408b41f-75f8-4c00-b6ac-5d5460f3123c",
   "metadata": {},
   "source": [
    "## Counting Vowels"
   ]
  },
  {
   "cell_type": "markdown",
   "id": "f4a608ca-f57c-4945-9de4-563259f34219",
   "metadata": {},
   "source": [
    "\r\n",
    "#### `Overview`:\r\n",
    "This simple Python exercise calculates the number of vowels in a given string. The vowels are 'a', 'e', 'i', 'o', 'u' (both uppercase and lowercase). The code iteratively checks each character in the string to determine if it is a vowel. If a character is a vowel, it increments a counter variable. This process continues until all characters in the string have been checked. The final count of vowels is then returned."
   ]
  },
  {
   "cell_type": "markdown",
   "id": "de24f483-606e-4217-b4cd-41d69a067d33",
   "metadata": {},
   "source": [
    "### Psuedo Code"
   ]
  },
  {
   "cell_type": "markdown",
   "id": "03dfb1c3-95cd-461e-be75-b717f8b127a5",
   "metadata": {},
   "source": [
    "``` python\n",
    "function count_vowels(input_string):\r\n",
    "    set vowel_count to 0\r\n",
    "    define vowels as 'aeiouAEIOU'\r\n",
    "    for each character in input_string:\r\n",
    "        if character is in vowels:\r\n",
    "            increment vowel_count by 1\r\n",
    "    return vowelcount\r\n"
   ]
  },
  {
   "cell_type": "code",
   "execution_count": 18,
   "id": "5c20a76d-ccfc-404c-b6db-155ca48f5ea9",
   "metadata": {},
   "outputs": [
    {
     "name": "stdin",
     "output_type": "stream",
     "text": [
      "Enter a word to be checked :  d;qiuhfwqeuif\n"
     ]
    },
    {
     "name": "stdout",
     "output_type": "stream",
     "text": [
      "Number of vowels in 'd;qiuhfwqeuif': 5\n"
     ]
    }
   ],
   "source": [
    "def count_vowels(input_string):\n",
    "    vowels = \"aeiouAEIOU\"\n",
    "    count = 0\n",
    "    for char in input_string:\n",
    "        if char in vowels:\n",
    "            count += 1\n",
    "    return count\n",
    "input_string = str(input(\"Enter a word to be checked : \"))\n",
    "print(f\"Number of vowels in '{input_string}': {count_vowels(input_string)}\")"
   ]
  },
  {
   "cell_type": "markdown",
   "id": "3e4284ae-5856-4e08-812a-ae85f29baf9a",
   "metadata": {},
   "source": [
    "## Palindrome Checker"
   ]
  },
  {
   "cell_type": "markdown",
   "id": "758e301a-478b-455b-9a60-036986a64241",
   "metadata": {},
   "source": [
    "#### `Overview`:\n",
    "This Python exercise checks if a given string is a palindrome. A palindrome is a string that reads the same forwards and backwards, ignoring spaces, punctuation, and capitalization. The code first cleans the string by removing spaces and converting it to lowercase. It then compares the cleaned string to its reversed version. If both strings match, the original string is a palindrome; otherwise, it is not."
   ]
  },
  {
   "cell_type": "markdown",
   "id": "ee5c42a5-e16e-447d-8a29-3501381c6dbb",
   "metadata": {},
   "source": [
    "### Psuedo Code "
   ]
  },
  {
   "cell_type": "markdown",
   "id": "64b40321-8b09-4756-bb62-f07ef8ca6032",
   "metadata": {},
   "source": [
    "``` python \n",
    "function is_palindrome(input_string):\n",
    "    remove spaces from input_string\n",
    "    convert input_string to lowercase\n",
    "    set reversed_string to the reverse of input_string\n",
    "    if input_string is equal to reversed_string:\n",
    "        return True  # String is a palindrome\n",
    "    else:\n",
    "        return False  # String is not a palindrome"
   ]
  },
  {
   "cell_type": "code",
   "execution_count": 36,
   "id": "cab0de1c-2d04-4989-9565-aad5cfe4c45c",
   "metadata": {},
   "outputs": [
    {
     "name": "stdout",
     "output_type": "stream",
     "text": [
      "Is 'A man, a plan, a canal, Panama!' a palindrome? True\n"
     ]
    }
   ],
   "source": [
    "def is_palindrome(input_string):\n",
    "    # Remove spaces and convert to lowercase\n",
    "    cleaned_string = ''.join(char.lower() for char in input_string if char.isalnum())\n",
    "    \n",
    "    # Reverse the cleaned string\n",
    "    reversed_string = cleaned_string[::-1]\n",
    "    \n",
    "    # Check if the cleaned string is equal to its reverse\n",
    "    if cleaned_string == reversed_string:\n",
    "        return True  # String is a palindrome\n",
    "    else:\n",
    "        return False  # String is not a palindrome\n",
    "\n",
    "# Test the function\n",
    "input_string = \"A man, a plan, a canal, Panama!\"\n",
    "print(f\"Is '{input_string}' a palindrome? {is_palindrome(input_string)}\")"
   ]
  },
  {
   "cell_type": "markdown",
   "id": "8ecf751f-bb56-436a-9950-4ac503057839",
   "metadata": {},
   "source": [
    "## Python Calculator"
   ]
  },
  {
   "cell_type": "markdown",
   "id": "19a284fc-b7b2-41ee-8832-a85f0dab9cfd",
   "metadata": {},
   "source": [
    "#### `Overview`:\n",
    "This Python exercise implements a simple calculator that performs basic arithmetic operations: addition, subtraction, multiplication, and division. The user inputs two numbers and specifies an operation. The code checks the specified operation and applies it to the two numbers. It handles division by zero by returning an error message if the divisor is zero. The result of the operation is then returned to the user."
   ]
  },
  {
   "cell_type": "markdown",
   "id": "a63f1de3-b151-4213-9192-2195b55acf22",
   "metadata": {},
   "source": [
    "### Psuedo Code"
   ]
  },
  {
   "cell_type": "markdown",
   "id": "f8468162-5ea2-41f0-8e8d-f5dd437737a9",
   "metadata": {},
   "source": [
    "``` python\n",
    "function simple_calculator(num1, num2, operation):\n",
    "    if operation is \"add\":\n",
    "        return sum of both the numbers\n",
    "    else if operation is \"subtract\":\n",
    "        return difference of both the numbers\n",
    "    else if operation is \"multiply\":\n",
    "        return product of both the numbers\n",
    "    else if operation is \"divide\":\n",
    "        if num2 is not 0:\n",
    "            return divide both the numbers\n",
    "        else:\n",
    "            return \"Error! Division by zero.\"\n",
    "    else:\n",
    "        return \"Invalid operation.\""
   ]
  },
  {
   "cell_type": "code",
   "execution_count": 45,
   "id": "5e47fc3f-32fd-471d-a19e-2363115417ef",
   "metadata": {},
   "outputs": [
    {
     "name": "stdin",
     "output_type": "stream",
     "text": [
      "Enter the first number 10\n",
      "Enter the second number 2\n",
      "Pick either add or subtract or mutiply or divide divide\n"
     ]
    },
    {
     "name": "stdout",
     "output_type": "stream",
     "text": [
      "The result of divideing 10 and 2 is: 5.0\n"
     ]
    }
   ],
   "source": [
    "def simple_calculator(num1, num2, operation):\n",
    "    # Check if the operation is valid\n",
    "    if operation == \"add\":\n",
    "        return num1 + num2\n",
    "    elif operation == \"subtract\":\n",
    "        return num1 - num2\n",
    "    elif operation == \"multiply\":\n",
    "        return num1 * num2\n",
    "    elif operation == \"divide\":\n",
    "        # Check if division by zero is attempted\n",
    "        if num2 != 0:\n",
    "            return num1 / num2\n",
    "        else:\n",
    "            return \"Error! Division by zero.\"\n",
    "    else:\n",
    "        return \"Invalid operation.\"\n",
    "\n",
    "# Test the function\n",
    "num1 = int(input(\"Enter the first number\"))\n",
    "num2 = int(input(\"Enter the second number\"))\n",
    "operation = str(input(\"Pick either add or subtract or mutiply or divide\"))\n",
    "print(f\"The result of {operation}ing {num1} and {num2} is: {simple_calculator(num1, num2, operation)}\")"
   ]
  },
  {
   "cell_type": "code",
   "execution_count": null,
   "id": "7a6b2eb4-cce1-4520-93e6-0376fecd8408",
   "metadata": {},
   "outputs": [],
   "source": []
  }
 ],
 "metadata": {
  "kernelspec": {
   "display_name": "Python 3 (ipykernel)",
   "language": "python",
   "name": "python3"
  },
  "language_info": {
   "codemirror_mode": {
    "name": "ipython",
    "version": 3
   },
   "file_extension": ".py",
   "mimetype": "text/x-python",
   "name": "python",
   "nbconvert_exporter": "python",
   "pygments_lexer": "ipython3",
   "version": "3.11.7"
  }
 },
 "nbformat": 4,
 "nbformat_minor": 5
}
